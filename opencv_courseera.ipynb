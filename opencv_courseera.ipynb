{
  "nbformat": 4,
  "nbformat_minor": 0,
  "metadata": {
    "colab": {
      "name": "opencv_courseera.ipynb",
      "provenance": [],
      "authorship_tag": "ABX9TyNhiav8Y6ww2UUaeDfxBhoG",
      "include_colab_link": true
    },
    "kernelspec": {
      "name": "python3",
      "display_name": "Python 3"
    },
    "language_info": {
      "name": "python"
    }
  },
  "cells": [
    {
      "cell_type": "markdown",
      "metadata": {
        "id": "view-in-github",
        "colab_type": "text"
      },
      "source": [
        "<a href=\"https://colab.research.google.com/github/Shreyabansal3112/testing/blob/main/opencv_courseera.ipynb\" target=\"_parent\"><img src=\"https://colab.research.google.com/assets/colab-badge.svg\" alt=\"Open In Colab\"/></a>"
      ]
    },
    {
      "cell_type": "code",
      "execution_count": null,
      "metadata": {
        "id": "46Yd0CzmEI95"
      },
      "outputs": [],
      "source": [
        "import cv2\n",
        "import numpy as np"
      ]
    },
    {
      "cell_type": "code",
      "source": [
        "def draw_circle(event, x,y,flags,param):\n",
        "    \n",
        "\n",
        "    # Left Button Down\n",
        "    if event==cv2.EVENT_LBUTTONDOWN:\n",
        "        cv2.circle(img, (x,y),100, (75,13,251), -1)\n",
        "    # Right Button Down\n",
        "    elif event== cv2.EVENT_RBUTTONDOWN:\n",
        "        cv2.circle(img, (x,y), 50, (251,75,131),-1)"
      ],
      "metadata": {
        "id": "CGWp357cEjbD"
      },
      "execution_count": null,
      "outputs": []
    },
    {
      "cell_type": "code",
      "source": [
        "cv2.namedWindow(winname='my_draw')\n",
        "cv2.setMouseCallback('my_draw', draw_circle)\n",
        "img=np.zeros((512,512), np.int8)\n",
        "while True:\n",
        "    cv2.imshow('my_draw',img)\n",
        "    if cv2.waitKey(5) & 0xFF==ord('q'):\n",
        "        break\n",
        "        \n",
        "        \n",
        "cv2.destroyAllWindows()"
      ],
      "metadata": {
        "id": "i70vmOswEoPq"
      },
      "execution_count": null,
      "outputs": []
    },
    {
      "cell_type": "code",
      "source": [
        "drawing=False\n",
        "ex = -1\n",
        "ey = -1\n",
        "\n",
        "\n",
        "# Function\n",
        "# x,y, flags, param are feed from OpenCV automaticaly\n",
        "\n",
        "def draw_rectangle(event,x,y,flags,params):\n",
        "    global ex,ey,drawing\n",
        "    if event==cv2.EVENT_LBUTTONDOWN:\n",
        "        drawing=True\n",
        "        ex,ey=x,y\n",
        "        \n",
        "    elif event==cv2.EVENT_MOUSEMOVE:\n",
        "        if drawing==true:\n",
        "            cv2.rectangle(img,(ex,ey),(x,y),(255,0,255),-1)\n",
        "    \n",
        "    elif event==cv2.EVENT_LBUTTONUP:\n",
        "        drawing=False\n",
        "        cv2.rectangle(img,(ex,ey),(x,y),(255,0,255),-1)\n",
        "            \n",
        "\n",
        "\n",
        "# Connect the Function with the Callback\n",
        "\n",
        "img=np.zeros((512,512,3),np.int8)\n",
        "cv2.namedWindow(winname='my_draw')\n",
        "\n",
        "# Callback\n",
        "\n",
        "cv2.setMouseCallback('mydraw', draw_rectangle)\n",
        "# Using OpenCV to show the Image\n",
        "while True:\n",
        "    cv2.imshow('my_draw',img)\n",
        "    if cv2.waitKey(5) & 0xFF== ord('q'):\n",
        "        break\n",
        "                   \n",
        "               \n",
        "               \n",
        "cv2.destroyAllWindows()               \n",
        "               "
      ],
      "metadata": {
        "id": "1U8VYD3nF_h0"
      },
      "execution_count": null,
      "outputs": []
    },
    {
      "cell_type": "code",
      "source": [
        "import cv2\n",
        "import numpy as np\n",
        "import matplotlib.pyplot as plt\n",
        "%matplotlib inline"
      ],
      "metadata": {
        "id": "4UtVczPBEqt6"
      },
      "execution_count": null,
      "outputs": []
    },
    {
      "cell_type": "code",
      "source": [
        "black_img= np.zeros(shape=(512,512,3), dtype=np.int16)"
      ],
      "metadata": {
        "id": "_u9wMIAgE_Aa"
      },
      "execution_count": null,
      "outputs": []
    },
    {
      "cell_type": "code",
      "source": [
        "cv2.circle(img=black_img, center=(400,100), radius=15, color=(255,0,0), thickness=8)\n",
        "plt.imshow(black_img)"
      ],
      "metadata": {
        "colab": {
          "base_uri": "https://localhost:8080/",
          "height": 286
        },
        "id": "4o55fhaBFFZa",
        "outputId": "be797196-82c6-4f8d-dcbb-8c45f7d7e5d0"
      },
      "execution_count": null,
      "outputs": [
        {
          "output_type": "execute_result",
          "data": {
            "text/plain": [
              "<matplotlib.image.AxesImage at 0x7f30ee3c78d0>"
            ]
          },
          "metadata": {},
          "execution_count": 3
        },
        {
          "output_type": "display_data",
          "data": {
            "image/png": "[encoded data removed]",
            "text/plain": [
              "<Figure size 432x288 with 1 Axes>"
            ]
          },
          "metadata": {
            "needs_background": "light"
          }
        }
      ]
    },
    {
      "cell_type": "code",
      "source": [
        "cv2.circle(img=black_img, center=(400,200), radius=15, color=(255,0,0), thickness=-1)\n",
        "plt.imshow(black_img)"
      ],
      "metadata": {
        "colab": {
          "base_uri": "https://localhost:8080/",
          "height": 286
        },
        "id": "xQFOWUnRFUD8",
        "outputId": "03c92222-061f-4f42-ab2f-966281f1b4e9"
      },
      "execution_count": null,
      "outputs": [
        {
          "output_type": "execute_result",
          "data": {
            "text/plain": [
              "<matplotlib.image.AxesImage at 0x7f30d8294dd0>"
            ]
          },
          "metadata": {},
          "execution_count": 4
        },
        {
          "output_type": "display_data",
          "data": {
            "image/png": "[encoded data removed]",
            "text/plain": [
              "<Figure size 432x288 with 1 Axes>"
            ]
          },
          "metadata": {
            "needs_background": "light"
          }
        }
      ]
    },
    {
      "cell_type": "code",
      "source": [
        "cv2.rectangle(black_img, pt1=(200,200),pt2=(300,300),color=(0,255,0),thickness=5)\n",
        "plt.imshow(black_img)"
      ],
      "metadata": {
        "colab": {
          "base_uri": "https://localhost:8080/",
          "height": 286
        },
        "id": "eYotUT1_FYIx",
        "outputId": "0e5a1a3c-3670-499a-caed-ae97553a77fb"
      },
      "execution_count": null,
      "outputs": [
        {
          "output_type": "execute_result",
          "data": {
            "text/plain": [
              "<matplotlib.image.AxesImage at 0x7f30d8205a10>"
            ]
          },
          "metadata": {},
          "execution_count": 5
        },
        {
          "output_type": "display_data",
          "data": {
            "image/png": "[encoded data removed]",
            "text/plain": [
              "<Figure size 432x288 with 1 Axes>"
            ]
          },
          "metadata": {
            "needs_background": "light"
          }
        }
      ]
    },
    {
      "cell_type": "code",
      "source": [
        "vertices=np.array([[10,450],[110,350],[180,450]],np.int32)\n",
        "pt2=vertices.reshape(-1,1,2)\n",
        "cv2.polylines(black_img, [pt2], isClosed=True, color=(0,0,255), thickness=3)\n",
        "plt.imshow(black_img)"
      ],
      "metadata": {
        "colab": {
          "base_uri": "https://localhost:8080/",
          "height": 286
        },
        "id": "GeYvX6bDFeo6",
        "outputId": "329ca927-f727-4758-c66a-e01a06ea2896"
      },
      "execution_count": null,
      "outputs": [
        {
          "output_type": "execute_result",
          "data": {
            "text/plain": [
              "<matplotlib.image.AxesImage at 0x7f30d81f4650>"
            ]
          },
          "metadata": {},
          "execution_count": 6
        },
        {
          "output_type": "display_data",
          "data": {
            "image/png": "[encoded data removed]",
            "text/plain": [
              "<Figure size 432x288 with 1 Axes>"
            ]
          },
          "metadata": {
            "needs_background": "light"
          }
        }
      ]
    },
    {
      "cell_type": "code",
      "source": [
        "cv2.rectangle(black_img, pt1=(200,50),pt2=(300,150),color=(123,112,21),thickness=-1)\n",
        "plt.imshow(black_img)"
      ],
      "metadata": {
        "colab": {
          "base_uri": "https://localhost:8080/",
          "height": 286
        },
        "id": "FzpD6XH6FkWk",
        "outputId": "c5ad736b-22be-45ac-8f4f-6889114cf1ba"
      },
      "execution_count": null,
      "outputs": [
        {
          "output_type": "execute_result",
          "data": {
            "text/plain": [
              "<matplotlib.image.AxesImage at 0x7f30d815d690>"
            ]
          },
          "metadata": {},
          "execution_count": 7
        },
        {
          "output_type": "display_data",
          "data": {
            "image/png": "[encoded data removed]",
            "text/plain": [
              "<Figure size 432x288 with 1 Axes>"
            ]
          },
          "metadata": {
            "needs_background": "light"
          }
        }
      ]
    },
    {
      "cell_type": "code",
      "source": [
        "vertices=np.array([[10,250],[110,150],[180,250]],np.int32)\n",
        "pts=vertices.reshape(-1,1,2)\n",
        "\n",
        "cv2.fillPoly(black_img,[pts],color=(145,234,11))\n",
        "plt.imshow(black_img)"
      ],
      "metadata": {
        "colab": {
          "base_uri": "https://localhost:8080/",
          "height": 286
        },
        "id": "th5hW8-yFk5r",
        "outputId": "d08a0b0e-2e09-488b-d3cb-1f2c0277f88d"
      },
      "execution_count": null,
      "outputs": [
        {
          "output_type": "execute_result",
          "data": {
            "text/plain": [
              "<matplotlib.image.AxesImage at 0x7f30d8241650>"
            ]
          },
          "metadata": {},
          "execution_count": 8
        },
        {
          "output_type": "display_data",
          "data": {
            "image/png": "[encoded data removed]",
            "text/plain": [
              "<Figure size 432x288 with 1 Axes>"
            ]
          },
          "metadata": {
            "needs_background": "light"
          }
        }
      ]
    },
    {
      "cell_type": "code",
      "source": [
        "cv2.line(black_img,pt1=(512,0),pt2=(0,512), color=(214,123,0),thickness=3)\n",
        "plt.imshow(black_img)"
      ],
      "metadata": {
        "colab": {
          "base_uri": "https://localhost:8080/",
          "height": 286
        },
        "id": "Rke-YYKpFnfp",
        "outputId": "9e4c428f-6512-4611-971d-f022fe29d1f0"
      },
      "execution_count": null,
      "outputs": [
        {
          "output_type": "execute_result",
          "data": {
            "text/plain": [
              "<matplotlib.image.AxesImage at 0x7f30d809a4d0>"
            ]
          },
          "metadata": {},
          "execution_count": 9
        },
        {
          "output_type": "display_data",
          "data": {
            "image/png": "[encoded data removed]",
            "text/plain": [
              "<Figure size 432x288 with 1 Axes>"
            ]
          },
          "metadata": {
            "needs_background": "light"
          }
        }
      ]
    },
    {
      "cell_type": "code",
      "source": [
        "font=cv2.FONT_HERSHEY_SIMPLEX\n",
        "cv2.putText(black_img, text='Shreya', org=(210,500), fontFace=font,fontScale=3,color=(255,211,122), thickness=5, lineType=cv2.LINE_AA)\n",
        "plt.imshow(black_img)"
      ],
      "metadata": {
        "colab": {
          "base_uri": "https://localhost:8080/",
          "height": 286
        },
        "id": "F2tIv7LoFxu5",
        "outputId": "b28d8829-2c07-433f-ee70-33e489c3feb7"
      },
      "execution_count": null,
      "outputs": [
        {
          "output_type": "execute_result",
          "data": {
            "text/plain": [
              "<matplotlib.image.AxesImage at 0x7f30d8078e50>"
            ]
          },
          "metadata": {},
          "execution_count": 10
        },
        {
          "output_type": "display_data",
          "data": {
            "image/png": "[encoded data removed]",
            "text/plain": [
              "<Figure size 432x288 with 1 Axes>"
            ]
          },
          "metadata": {
            "needs_background": "light"
          }
        }
      ]
    },
    {
      "cell_type": "code",
      "source": [
        ""
      ],
      "metadata": {
        "id": "Pacmj1CGF0A5"
      },
      "execution_count": null,
      "outputs": []
    }
  ]
}