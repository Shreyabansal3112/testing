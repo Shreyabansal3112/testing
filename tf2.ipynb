{
  "nbformat": 4,
  "nbformat_minor": 0,
  "metadata": {
    "colab": {
      "name": "tf2.ipynb",
      "provenance": [],
      "authorship_tag": "ABX9TyP+EpsiouKaT8NVccVe1t5s",
      "include_colab_link": true
    },
    "kernelspec": {
      "name": "python3",
      "display_name": "Python 3"
    }
  },
  "cells": [
    {
      "cell_type": "markdown",
      "metadata": {
        "id": "view-in-github",
        "colab_type": "text"
      },
      "source": [
        "<a href=\"https://colab.research.google.com/github/Shreyabansal3112/testing/blob/main/tf2.ipynb\" target=\"_parent\"><img src=\"https://colab.research.google.com/assets/colab-badge.svg\" alt=\"Open In Colab\"/></a>"
      ]
    },
    {
      "cell_type": "code",
      "metadata": {
        "id": "6i2Okm9Frvgf",
        "outputId": "5b42d61d-dbd4-45d2-cde5-d2573bfb1853",
        "colab": {
          "base_uri": "https://localhost:8080/",
          "height": 34
        }
      },
      "source": [
        "# Import `tensorflow`\n",
        "import tensorflow as tf\n",
        "\n",
        "# Initialize two constants\n",
        "x1 = tf.constant([1,2,3,4])\n",
        "x2 = tf.constant([5,6,7,8])\n",
        "\n",
        "# Multiply\n",
        "result = tf.multiply(x1, x2)\n",
        "\n",
        "# Print the result\n",
        "print(result)"
      ],
      "execution_count": null,
      "outputs": [
        {
          "output_type": "stream",
          "text": [
            "tf.Tensor([ 5 12 21 32], shape=(4,), dtype=int32)\n"
          ],
          "name": "stdout"
        }
      ]
    },
    {
      "cell_type": "code",
      "metadata": {
        "id": "3UuHaCJ5rwZm",
        "outputId": "bfdc90c8-f83c-400e-9950-272d6006fe91",
        "colab": {
          "base_uri": "https://localhost:8080/",
          "height": 34
        }
      },
      "source": [
        "# Import `tensorflow` \n",
        "import tensorflow as tf\n",
        "tf.compat.v1.disable_eager_execution()\n",
        "\n",
        "# Initialize two constants\n",
        "x1 = tf.constant([1,2,3,4])\n",
        "x2 = tf.constant([5,6,7,8])\n",
        "\n",
        "\n",
        "\n",
        "# Multiply\n",
        "result = tf.multiply(x1, x2)\n",
        "\n",
        "# Intialize the Session\n",
        "sess = tf.compat.v1.Session()\n",
        "\n",
        "# Print the result\n",
        "print(sess.run(result))\n",
        "\n",
        "# Close the session\n",
        "sess.close()"
      ],
      "execution_count": null,
      "outputs": [
        {
          "output_type": "stream",
          "text": [
            "[ 5 12 21 32]\n"
          ],
          "name": "stdout"
        }
      ]
    },
    {
      "cell_type": "code",
      "metadata": {
        "id": "LAL0QgVLr4o4"
      },
      "source": [
        ""
      ],
      "execution_count": null,
      "outputs": []
    },
    {
      "cell_type": "code",
      "metadata": {
        "id": "qdDKHwknst0A"
      },
      "source": [
        "sess = tf.compat.v1.Session()"
      ],
      "execution_count": null,
      "outputs": []
    },
    {
      "cell_type": "code",
      "metadata": {
        "id": "34v5q9B9swQi",
        "outputId": "1dbddb3c-bf4a-4b3f-cbf6-bd3d81af6939",
        "colab": {
          "base_uri": "https://localhost:8080/",
          "height": 34
        }
      },
      "source": [
        "# Import `tensorflow`\n",
        "import tensorflow as tf\n",
        "tf.compat.v1.disable_eager_execution()\n",
        "# Initialize two constants\n",
        "x1 = tf.constant([1,2,3,4])\n",
        "x2 = tf.constant([5,6,7,8])\n",
        "\n",
        "# Multiply\n",
        "result = tf.multiply(x1, x2)\n",
        "\n",
        "# Initialize Session and run `result`\n",
        "with tf.compat.v1.Session() as ses:\n",
        "\n",
        "  output = ses.run(result)\n",
        "  print(output)"
      ],
      "execution_count": null,
      "outputs": [
        {
          "output_type": "stream",
          "text": [
            "[ 5 12 21 32]\n"
          ],
          "name": "stdout"
        }
      ]
    },
    {
      "cell_type": "code",
      "metadata": {
        "id": "e6VsVHh0xwiv"
      },
      "source": [
        "import tensorflow as tf\n",
        "tf.compat.v1.disable_eager_execution()\n",
        "X1=tf.Variable(initial_value=[0.,1.,0.,1.])\n",
        "X2=tf.Variable(initial_value=[0.,0.,1.,1.])\n",
        "Y_AND=tf.Variable(initial_value=[0.,0.,0.,1.])\n",
        "Y_NOR=tf.Variable(initial_value=[1.,0.,0.,0.])\n",
        "Y_OR=tf.Variable(initial_value=[0.,1.,1.,1.])\n",
        "Y_XOR=tf.Variable(initial_value=[0.,1.,1.,0.])\n",
        "Y_XNOR=tf.Variable(initial_value=[1.,0.,0.,1.])"
      ],
      "execution_count": null,
      "outputs": []
    },
    {
      "cell_type": "code",
      "metadata": {
        "id": "a_v6zMWo5Lqi"
      },
      "source": [
        "class Model(object):\n",
        " \n",
        "   def __init__(self):\n",
        "     # Initialize the weights to `2.0` and the bias to `2.0`\n",
        "     # In practice, these should be initialized to random values\n",
        "     # self.W1=tf.random.normal([1])\n",
        "     self.W1 = tf.Variable(2.)\n",
        "     self.W2= tf.Variable(2.)\n",
        "     self.b=tf.Variable(2.)\n",
        "   \n",
        "   def __call__(self, x1,x2):\n",
        "     self.K1=self.W1 * x1 + self.W2 * x2 + self.b\n",
        "     self.Output = tf.keras.activations.sigmoid(self.K1)\n",
        "     return(self.Output)\n",
        "model=Model()"
      ],
      "execution_count": null,
      "outputs": []
    },
    {
      "cell_type": "code",
      "metadata": {
        "id": "M891a9Hc5Rrj"
      },
      "source": [
        "def compute_cost(target_y, predicted_y):\n",
        "    c=tf.keras.losses.BinaryCrossentropy()\n",
        "    return(c(target_y,predicted_y))"
      ],
      "execution_count": null,
      "outputs": []
    },
    {
      "cell_type": "code",
      "metadata": {
        "id": "k49A6xqu5U-6"
      },
      "source": [
        "def None_to_Zero(v):\n",
        "   if v==None:\n",
        "      v=0\n",
        "   return v"
      ],
      "execution_count": null,
      "outputs": []
    },
    {
      "cell_type": "code",
      "metadata": {
        "id": "s5RWDg7B5Xdz"
      },
      "source": [
        "def train(model, X1, X2, Y2, learning_rate):\n",
        "     with tf.GradientTape() as t:\n",
        "          current_loss = compute_cost(Y2,model(X1,X2))\n",
        "     dW1,dW2,db=t.gradient(current_loss,[model.W1,model.W2,model.b])          \n",
        "     dW1=None_to_Zero(dW1)\n",
        "     db=None_to_Zero(db)\n",
        "     dW2=None_to_Zero(dW2)\n",
        "     model.W1.assign_sub(learning_rate * dW1)\n",
        "     model.b.assign_sub(learning_rate * db)\n",
        "     model.W2.assign_sub(learning_rate * dW2)"
      ],
      "execution_count": null,
      "outputs": []
    },
    {
      "cell_type": "code",
      "metadata": {
        "id": "RUq7xwnA5ZUz",
        "outputId": "ceeb9133-214a-456a-ec44-421f3f167ba3",
        "colab": {
          "base_uri": "https://localhost:8080/",
          "height": 197
        }
      },
      "source": [
        "# As we have very less Input data we need to increase the number of # epochs.\n",
        "import numpy as np\n",
        "epochs=range(1000)\n",
        "learning_rate=0.1\n",
        "for epoch in epochs:\n",
        "   train(model, X1, X2,Y_AND, learning_rate)\n",
        "   # train(model, X1, X2,Y_NOR, learning_rate)\n",
        "   # train(model, X1, X2,Y_OR, learning_rate)\n",
        "#Once the training is done we can find results by calling the Model  #Class object as \n",
        "print(np.round(model(X1, X2).numpy()))"
      ],
      "execution_count": null,
      "outputs": [
        {
          "output_type": "error",
          "ename": "AttributeError",
          "evalue": "ignored",
          "traceback": [
            "\u001b[0;31m---------------------------------------------------------------------------\u001b[0m",
            "\u001b[0;31mAttributeError\u001b[0m                            Traceback (most recent call last)",
            "\u001b[0;32m<ipython-input-24-24ec94799fbc>\u001b[0m in \u001b[0;36m<module>\u001b[0;34m()\u001b[0m\n\u001b[1;32m      8\u001b[0m    \u001b[0;31m# train(model, X1, X2,Y_OR, learning_rate)\u001b[0m\u001b[0;34m\u001b[0m\u001b[0;34m\u001b[0m\u001b[0;34m\u001b[0m\u001b[0m\n\u001b[1;32m      9\u001b[0m \u001b[0;31m#Once the training is done we can find results by calling the Model  #Class object as\u001b[0m\u001b[0;34m\u001b[0m\u001b[0;34m\u001b[0m\u001b[0;34m\u001b[0m\u001b[0m\n\u001b[0;32m---> 10\u001b[0;31m \u001b[0mprint\u001b[0m\u001b[0;34m(\u001b[0m\u001b[0mnp\u001b[0m\u001b[0;34m.\u001b[0m\u001b[0mround\u001b[0m\u001b[0;34m(\u001b[0m\u001b[0mmodel\u001b[0m\u001b[0;34m(\u001b[0m\u001b[0mX1\u001b[0m\u001b[0;34m,\u001b[0m \u001b[0mX2\u001b[0m\u001b[0;34m)\u001b[0m\u001b[0;34m.\u001b[0m\u001b[0mnumpy\u001b[0m\u001b[0;34m(\u001b[0m\u001b[0;34m)\u001b[0m\u001b[0;34m)\u001b[0m\u001b[0;34m)\u001b[0m\u001b[0;34m\u001b[0m\u001b[0;34m\u001b[0m\u001b[0m\n\u001b[0m",
            "\u001b[0;31mAttributeError\u001b[0m: 'Tensor' object has no attribute 'numpy'"
          ]
        }
      ]
    },
    {
      "cell_type": "code",
      "metadata": {
        "id": "FsaTPoyr5bvk"
      },
      "source": [
        "W_AND={‘W1’:model.W1.numpy(),\n",
        "       ’W2':model.W2.numpy(),\n",
        "       ’b’:model.b.numpy()}\n",
        "#W_NOR(calculated by keeping Y_NOR)={‘W1’:-8.65,’W2':-8.65,’b’:3.86}\n",
        "#W_OR(calculated by keeping Y_OR)={‘W1’:8.69,’W2': 8.69,’b’: -3.88}"
      ],
      "execution_count": null,
      "outputs": []
    }
  ]
}